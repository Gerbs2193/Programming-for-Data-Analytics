{
 "cells": [
  {
   "cell_type": "markdown",
   "metadata": {},
   "source": [
    "# Programming for Data Analytics - Project - Gerard Ball"
   ]
  },
  {
   "cell_type": "markdown",
   "metadata": {},
   "source": [
    "> For this project you must create a data set by simulating a real-world phenomenon of your choosing. You may pick any phenomenon you wish – you might pick one that is of interest to you in your personal or professional life. Then, rather than collect data related to the phenomenon, you should model and synthesise such data using Python. We suggest you use the numpy.random package for this purpose.\n",
    "Specifically, in this project you should:\n",
    "• Choose a real-world phenomenon that can be measured and for which you could collect at least one-hundred data points across at least four different variables.\n",
    "• Investigate the types of variables involved, their likely distributions, and their relationships with each other.\n",
    "• Synthesise/simulate a data set as closely matching their properties as possible.\n",
    "• Detail your research and implement the simulation in a Jupyter notebook – the data set itself can simply be displayed in an output cell within the notebook.\n",
    "Note that this project is about simulation – you must synthesise a data set. Some students may already have some real-world data sets in their own files. It is okay to base your synthesised data set on these should you wish (please reference it if you do), but the main task in this project is to create a synthesised data set. \n",
    "\n",
    "\n"
   ]
  },
  {
   "cell_type": "markdown",
   "metadata": {},
   "source": [
    "## Road Map\n",
    "1. Introduction \n",
    "2. Aim\n",
    "3. Images of subjects\n",
    "4. Data Collection\n",
    "5. Data Synthesis\n",
    "6. Exploratory Data Analysis\n",
    "7. Data Visualisation\n",
    "8. Statistical Analysis\n",
    "9. Interpretations of results and Discussions\n",
    "10. Conclusion\n"
   ]
  },
  {
   "cell_type": "markdown",
   "metadata": {},
   "source": [
    "## Introduction\n",
    "\n",
    "Roller coasters offer a budding adrenaline junkie a release from the trials and tribulations of everyday life. Like many things in life, coasters come in all manner of sizes and types and understanding and discerning the relatsionsip between much of them, can offer up some valuable data analysis. The mission of this project is to simulate and synthesize a diverse these roller coasters, capturing variables like speed, height, type and thrill rating. By carrying out this synthesis, the prtoject aims to create a comprehensive and varied representation of roller coasters worldwide and their many types. The dataset will serve as a valuable resource for analysis, providing insights into the relationships between different coaster characteristics. By leveraging this simulated data, I strive to enhance understanding and appreciation of the factors contributing to the thrill and excitement offered by these wonderful marvels of modern engineering whilst facilitating potential insights for enthusiasts, theme park planners and the amusement industry itself. "
   ]
  },
  {
   "cell_type": "markdown",
   "metadata": {},
   "source": [
    "## Data Collection"
   ]
  },
  {
   "cell_type": "code",
   "execution_count": null,
   "metadata": {},
   "outputs": [],
   "source": [
    "import pandas as pd\n",
    "import numpy as np\n",
    "\n",
    "np.random.seed(42)\n",
    "\n",
    "# Number of data points\n",
    "num_points = 100\n",
    "roller_coaster_data = pd.DataFrame({\n",
    "    'Roller Coaster': [f'Coaster_{i+1}' for i in range(num_points)],\n",
    "    'Type': np.random.choice(['Steel', 'Wooden', 'Hybrid'], size=num_points),\n",
    "    'Speed (km/h)': np.random.normal(loc=100, scale=15, size=num_points),\n",
    "    'Height (m)': np.random.normal(loc=50, scale=15, size=num_points),\n",
    "})\n",
    "\n",
    "# steel faster, taller more thrillin on average\n",
    "steel_mask = roller_coaster_data['Type'] == 'Steel'\n",
    "roller_coaster_data.loc[steel_mask, 'Speed (km/h)'] += 20\n",
    "roller_coaster_data.loc[steel_mask, 'Height (m)'] += 10\n",
    "\n",
    "roller_coaster_data['Thrill Rating'] = (\n",
    "    0.3 * roller_coaster_data['Speed (km/h)'] +\n",
    "    0.4 * roller_coaster_data['Height (m)'] +\n",
    "    np.random.normal(loc=8, scale=1, size=num_points)\n",
    ")\n",
    "\n",
    "roller_coaster_data.to_csv('coasterss.csv', index=False)"
   ]
  },
  {
   "cell_type": "code",
   "execution_count": 2,
   "metadata": {},
   "outputs": [
    {
     "name": "stdout",
     "output_type": "stream",
     "text": [
      "Mean values:\n",
      "Speed (km/h)     107.954113\n",
      "Height (m)        55.959383\n",
      "Thrill Rating     62.919193\n",
      "dtype: float64\n",
      "\n",
      "Median values:\n",
      "Speed (km/h)     106.980178\n",
      "Height (m)        55.295932\n",
      "Thrill Rating     62.981672\n",
      "dtype: float64\n"
     ]
    },
    {
     "name": "stderr",
     "output_type": "stream",
     "text": [
      "/var/folders/dg/9958h0ld4fsbyrqhh8fl7t3r0000gn/T/ipykernel_31195/1398716640.py:5: FutureWarning: The default value of numeric_only in DataFrame.mean is deprecated. In a future version, it will default to False. In addition, specifying 'numeric_only=None' is deprecated. Select only valid columns or specify the value of numeric_only to silence this warning.\n",
      "  mean_values = synthesised_data.mean()\n",
      "/var/folders/dg/9958h0ld4fsbyrqhh8fl7t3r0000gn/T/ipykernel_31195/1398716640.py:6: FutureWarning: The default value of numeric_only in DataFrame.median is deprecated. In a future version, it will default to False. In addition, specifying 'numeric_only=None' is deprecated. Select only valid columns or specify the value of numeric_only to silence this warning.\n",
      "  median_values = synthesised_data.median()\n"
     ]
    }
   ],
   "source": [
    "import pandas as pd\n",
    "synthesised_data = pd.read_csv('coasterss.csv')\n",
    "\n",
    "# mean and median\n",
    "mean_values = synthesised_data.mean()\n",
    "median_values = synthesised_data.median()\n",
    "\n",
    "print(\"Mean values:\")\n",
    "print(mean_values)\n",
    "\n",
    "print(\"\\nMedian values:\")\n",
    "print(median_values)"
   ]
  },
  {
   "cell_type": "code",
   "execution_count": 1,
   "metadata": {},
   "outputs": [
    {
     "name": "stdout",
     "output_type": "stream",
     "text": [
      "Mean values for each type:\n",
      "        Speed (km/h)  Height (m)  Thrill Rating\n",
      "Type                                           \n",
      "Hybrid    100.588160   52.768262      59.414376\n",
      "Steel     123.042441   60.323624      69.158773\n",
      "Wooden    100.466050   54.706740      60.217614\n",
      "\n",
      "Median values for each type:\n",
      "        Speed (km/h)  Height (m)  Thrill Rating\n",
      "Type                                           \n",
      "Hybrid    102.633299   52.622495      58.483179\n",
      "Steel     119.889298   60.227149      69.147440\n",
      "Wooden     99.573049   54.025590      60.448528\n"
     ]
    },
    {
     "name": "stderr",
     "output_type": "stream",
     "text": [
      "/var/folders/dg/9958h0ld4fsbyrqhh8fl7t3r0000gn/T/ipykernel_31736/3336080302.py:4: FutureWarning: The default value of numeric_only in DataFrameGroupBy.mean is deprecated. In a future version, numeric_only will default to False. Either specify numeric_only or select only columns which should be valid for the function.\n",
      "  mean_values = grouped_data.mean()\n",
      "/var/folders/dg/9958h0ld4fsbyrqhh8fl7t3r0000gn/T/ipykernel_31736/3336080302.py:5: FutureWarning: The default value of numeric_only in DataFrameGroupBy.median is deprecated. In a future version, numeric_only will default to False. Either specify numeric_only or select only columns which should be valid for the function.\n",
      "  median_values = grouped_data.median()\n"
     ]
    }
   ],
   "source": [
    "import pandas as pd\n",
    "roller_coaster_data = pd.read_csv('Coasterss.csv')\n",
    "grouped_data = roller_coaster_data.groupby('Type')\n",
    "mean_values = grouped_data.mean()\n",
    "median_values = grouped_data.median()\n",
    "\n",
    "print(\"Mean values for each type:\")\n",
    "print(mean_values)\n",
    "\n",
    "print(\"\\nMedian values for each type:\")\n",
    "print(median_values)"
   ]
  }
 ],
 "metadata": {
  "kernelspec": {
   "display_name": "Python 3",
   "language": "python",
   "name": "python3"
  },
  "language_info": {
   "codemirror_mode": {
    "name": "ipython",
    "version": 3
   },
   "file_extension": ".py",
   "mimetype": "text/x-python",
   "name": "python",
   "nbconvert_exporter": "python",
   "pygments_lexer": "ipython3",
   "version": "3.11.4"
  },
  "orig_nbformat": 4
 },
 "nbformat": 4,
 "nbformat_minor": 2
}
