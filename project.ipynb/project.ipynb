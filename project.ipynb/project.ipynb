{
 "cells": [
  {
   "cell_type": "markdown",
   "metadata": {},
   "source": [
    "# Programming for Data Analytics - Project - Gerard Ball"
   ]
  },
  {
   "cell_type": "markdown",
   "metadata": {},
   "source": [
    "# Brief - \n",
    ">Problem statement\n",
    "For this project you must create a data set by simulating a real-world phenomenon of your choosing. You may pick any phenomenon you wish – you might pick one that is of interest to you in your personal or professional life. Then, rather than collect data related to the phenomenon, you should model and synthesise such data using Python. We suggest you use the numpy.random package for this purpose.\n",
    "Specifically, in this project you should:\n",
    "• Choose a real-world phenomenon that can be measured and for which you could collect at least one-hundred data points across at least four different variables.\n",
    "• Investigate the types of variables involved, their likely distributions, and their relationships with each other.\n",
    "• Synthesise/simulate a data set as closely matching their properties as possible.\n",
    "• Detail your research and implement the simulation in a Jupyter notebook – the data set itself can simply be displayed in an output cell within the notebook.\n",
    "Note that this project is about simulation – you must synthesise a data set. Some students may already have some real-world data sets in their own files. It is okay to base your synthesised data set on these should you wish (please reference it if you do), but the main task in this project is to create a synthesised data set. The next section gives an example project idea.\n",
    "\n",
    "\n"
   ]
  },
  {
   "cell_type": "markdown",
   "metadata": {},
   "source": [
    "## Road Map\n",
    "1. Introduction \n",
    "2. Aim\n",
    "3. Images of subjects\n",
    "4. Data Collection\n",
    "5. Data Synthesis\n",
    "6. Exploratory Data Analysis\n",
    "7. Data Visualisation\n",
    "8. Statistical Analysis\n",
    "9. Interpretations of results and Discussions\n",
    "10. Conclusion\n"
   ]
  },
  {
   "cell_type": "markdown",
   "metadata": {},
   "source": [
    "## Introduction\n",
    "\n",
    "Cichlids are amongst the most popular, diverse colourful species of fish commonly kept in the fish keeping trade. with an estimated population spaning more than 2500 species alone - [Scientific American](https://www.scientificamerican.com/article/the-extraordinary-evolution-of-cichlid-fishes/). Cichlids can range in size from tiny dwarf cichlids like Neolamprologus multifasciatus at a standard maximum size of just 1-2 inches to truly monstrous Parachromis Dovii often exceeding 25 inches to the largest cichlid discovered, the Boulengerochromis microlepis aka the aptly named Emperor cichlid that can reach 36inces in length. \n",
    "\n",
    "That being said, few people outside monster fish-keeping enthusiasts house aquaria substantial enough to cater for such behemoths - let alone to the extent needed to attain the aforementioned sizes. As someone who has kept various monsters from juvenile to adult Parachromis Dovii, Amphilopus Citrinellus and many more - I feel I am able to offer up my insights from my aim. "
   ]
  },
  {
   "cell_type": "markdown",
   "metadata": {},
   "source": [
    "## Subjects - images\n",
    "<img src=\"juvenilemidas.jpg\" alt=\"Midas Cichlid\" width=\"300\"/>\n",
    "Baby Midas Cichlid at approx 3/4 inches"
   ]
  },
  {
   "cell_type": "markdown",
   "metadata": {},
   "source": [
    "<img src=\"Midas.jpg\" alt=\"Midas Cichlid\" width=\"300\"/>\n",
    "Midas Cichlid full grown approx 14 inches\n"
   ]
  },
  {
   "cell_type": "markdown",
   "metadata": {},
   "source": [
    "<img src=\"juveniledovii.jpeg\" alt=\"Midas Cichlid\" width=\"300\"/>\n",
    "Baby Dovii at approx 3/4 inches \n"
   ]
  },
  {
   "cell_type": "markdown",
   "metadata": {},
   "source": [
    "<img src=\"Dovii.jpg\" alt=\"Dovii Cichlid\" width=\"300\"/>\n",
    "Dovii Cichlid nearly full grown 22 inches"
   ]
  }
 ],
 "metadata": {
  "kernelspec": {
   "display_name": "Python 3",
   "language": "python",
   "name": "python3"
  },
  "language_info": {
   "codemirror_mode": {
    "name": "ipython",
    "version": 3
   },
   "file_extension": ".py",
   "mimetype": "text/x-python",
   "name": "python",
   "nbconvert_exporter": "python",
   "pygments_lexer": "ipython3",
   "version": "3.11.4"
  },
  "orig_nbformat": 4
 },
 "nbformat": 4,
 "nbformat_minor": 2
}
