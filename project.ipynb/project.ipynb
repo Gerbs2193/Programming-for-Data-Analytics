{
 "cells": [
  {
   "cell_type": "markdown",
   "metadata": {},
   "source": [
    "# Programming for Data Analytics - Project - Gerard Ball"
   ]
  },
  {
   "cell_type": "markdown",
   "metadata": {},
   "source": [
    "# Brief - \n",
    ">Problem statement\n",
    "For this project you must create a data set by simulating a real-world phenomenon of your choosing. You may pick any phenomenon you wish – you might pick one that is of interest to you in your personal or professional life. Then, rather than collect data related to the phenomenon, you should model and synthesise such data using Python. We suggest you use the numpy.random package for this purpose.\n",
    "Specifically, in this project you should:\n",
    "• Choose a real-world phenomenon that can be measured and for which you could collect at least one-hundred data points across at least four different variables.\n",
    "• Investigate the types of variables involved, their likely distributions, and their relationships with each other.\n",
    "• Synthesise/simulate a data set as closely matching their properties as possible.\n",
    "• Detail your research and implement the simulation in a Jupyter notebook – the data set itself can simply be displayed in an output cell within the notebook.\n",
    "Note that this project is about simulation – you must synthesise a data set. Some students may already have some real-world data sets in their own files. It is okay to base your synthesised data set on these should you wish (please reference it if you do), but the main task in this project is to create a synthesised data set. The next section gives an example project idea.\n",
    "\n",
    "\n"
   ]
  },
  {
   "cell_type": "markdown",
   "metadata": {},
   "source": [
    "## Road Map\n",
    "1. Introduction \n",
    "2. Aim\n",
    "3. Images of subjects\n",
    "4. Data Collection\n",
    "5. Data Synthesis\n",
    "6. Exploratory Data Analysis\n",
    "7. Data Visualisation\n",
    "8. Statistical Analysis\n",
    "9. Interpretations of results and Discussions\n",
    "10. Conclusion\n"
   ]
  },
  {
   "cell_type": "markdown",
   "metadata": {},
   "source": [
    "## Introduction\n",
    "\n",
    "Cichlids are amongst the most popular, diverse colourful species of fish commonly kept in the fish keeping trade. with an estimated population spaning more than 2500 species alone - [Scientific American](https://www.scientificamerican.com/article/the-extraordinary-evolution-of-cichlid-fishes/). Cichlids can range in size from tiny dwarf cichlids like Neolamprologus multifasciatus at a standard maximum size of just 1-2 inches to truly monstrous Parachromis Dovii often exceeding 25 inches to the largest cichlid discovered, the Boulengerochromis microlepis aka the aptly named Emperor cichlid that can reach 36inces in length. \n",
    "\n",
    "That being said, few people outside monster fish-keeping enthusiasts house aquaria substantial enough to cater for such behemoths - let alone to the extent needed to attain the aforementioned sizes. As someone who has kept various monsters from juvenile to adult Parachromis Dovii, Amphilopus Citrinellus and many more - I feel I am able to offer up my insights from my aim. "
   ]
  },
  {
   "cell_type": "markdown",
   "metadata": {},
   "source": [
    "## Subjects - images\n",
    "<img src=\"juvenilemidas.jpg\" alt=\"Midas Cichlid\" width=\"300\"/>\n",
    "Baby Midas Cichlid at approx 3/4 inches"
   ]
  },
  {
   "cell_type": "markdown",
   "metadata": {},
   "source": [
    "<img src=\"Midas.jpg\" alt=\"Midas Cichlid\" width=\"300\"/>\n",
    "Midas Cichlid full grown approx 14 inches\n"
   ]
  },
  {
   "cell_type": "markdown",
   "metadata": {},
   "source": [
    "<img src=\"juveniledovii.jpeg\" alt=\"Midas Cichlid\" width=\"300\"/>\n",
    "Baby Dovii at approx 3/4 inches \n"
   ]
  },
  {
   "cell_type": "markdown",
   "metadata": {},
   "source": [
    "<img src=\"Dovii.jpg\" alt=\"Dovii Cichlid\" width=\"300\"/>\n",
    "Dovii Cichlid nearly full grown 22 inches"
   ]
  },
  {
   "cell_type": "markdown",
   "metadata": {},
   "source": [
    "## Data Collection"
   ]
  },
  {
   "cell_type": "code",
   "execution_count": 6,
   "metadata": {},
   "outputs": [
    {
     "name": "stdout",
     "output_type": "stream",
     "text": [
      "    Cichlid  Growth Rate  Initial Size  End Size  Diet Type  Tank Size  Water Temperature\n",
      "0     Dovii          2.3           4.2      16.5   Omnivore        950               25.5\n",
      "1     Dovii          1.9           4.1      15.8  Carnivore        820               26.2\n",
      "2     Dovii          1.7           4.3      14.9  Herbivore        670               25.8\n",
      "3     Midas          1.6           4.0      13.4   Omnivore        980               26.8\n",
      "4     Midas          1.4           4.2      12.7  Carnivore        800               25.7\n",
      "5     Midas          1.1           4.1      11.9  Herbivore        720               26.0\n",
      "6     Dovii          1.9           4.3      15.7   Omnivore        960               25.2\n",
      "7     Dovii          1.6           4.2      14.8  Carnivore        830               26.5\n",
      "8     Dovii          1.4           4.1      13.5  Herbivore        690               25.6\n",
      "9     Midas          1.3           4.0      12.2   Omnivore        940               25.9\n",
      "10    Midas          1.0           4.2      11.1  Carnivore        810               26.3\n",
      "11    Midas          0.8           4.1       9.8  Herbivore        670               25.4\n",
      "12    Dovii          2.2           4.0      15.2   Omnivore        920               26.1\n",
      "13    Dovii          1.8           4.2      14.5  Carnivore        790               25.3\n",
      "14    Dovii          1.5           4.1      13.8  Herbivore        660               26.7\n",
      "15    Midas          1.4           4.0      12.5   Omnivore        970               26.6\n",
      "16    Midas          1.2           4.2      11.3  Carnivore        800               25.1\n",
      "17    Midas          0.9           4.1      10.1  Herbivore        710               25.0\n",
      "18    Dovii          2.0           4.3      15.1   Omnivore        930               25.4\n",
      "19    Dovii          1.7           4.2      14.4  Carnivore        800               26.7\n",
      "20    Dovii          1.4           4.1      13.7  Herbivore        670               25.9\n",
      "21    Midas          1.3           4.0      12.4   Omnivore        960               26.3\n",
      "22    Midas          1.1           4.2      11.2  Carnivore        820               25.8\n",
      "23    Midas          0.8           4.1       9.9  Herbivore        680               25.5\n",
      "24    Dovii          2.1           4.0      14.8   Omnivore        900               26.0\n",
      "25    Dovii          1.8           4.2      14.1  Carnivore        770               26.4\n",
      "26    Dovii          1.5           4.1      13.4  Herbivore        640               25.7\n",
      "27    Midas          1.4           4.0      12.1   Omnivore        950               26.2\n",
      "28    Midas          1.2           4.2      10.9  Carnivore        820               25.6\n",
      "29    Midas          0.9           4.1       9.6  Herbivore        690               26.0\n",
      "30    Dovii          2.0           4.3      14.7   Omnivore        910               26.5\n",
      "31    Dovii          1.7           4.2      14.0  Carnivore        780               25.9\n",
      "32    Dovii          1.4           4.1      13.3  Herbivore        650               26.3\n",
      "33    Midas          1.3           4.0      12.0   Omnivore        940               25.4\n",
      "34    Midas          1.0           4.2      10.8  Carnivore        810               26.8\n",
      "35    Midas          0.7           4.1       9.5  Herbivore        670               25.7\n",
      "36    Dovii          2.2           4.0      14.9   Omnivore        920               26.1\n",
      "37    Dovii          1.8           4.2      14.2  Carnivore        790               25.5\n",
      "38    Dovii          1.5           4.1      13.5  Herbivore        660               26.0\n",
      "39    Midas          1.4           4.0      12.2   Omnivore        970               26.5\n",
      "40    Midas          1.2           4.2      11.0  Carnivore        830               25.8\n",
      "41    Midas          0.9           4.1       9.7  Herbivore        700               25.3\n",
      "42    Dovii          2.1           4.3      15.0   Omnivore        930               25.6\n",
      "43    Dovii          1.7           4.2      14.3  Carnivore        800               26.9\n",
      "44    Dovii          1.4           4.1      13.6  Herbivore        670               25.2\n",
      "45    Midas          1.3           4.0      12.3   Omnivore        960               25.5\n",
      "46    Midas          1.1           4.2      11.1  Carnivore        820               26.1\n",
      "47    Midas          0.8           4.1       9.8  Herbivore        680               26.5\n",
      "48    Dovii          2.0           4.0      14.8   Omnivore        900               25.9\n",
      "49    Dovii          1.8           4.2      14.1  Carnivore        770               26.2\n",
      "50    Dovii          1.5           4.1      13.4  Herbivore        640               25.7\n",
      "51    Midas          1.4           4.0      12.1   Omnivore        950               26.4\n",
      "52    Midas          1.2           4.2      10.9  Carnivore        820               25.8\n",
      "53    Midas          0.9           4.1       9.6  Herbivore        690               26.2\n",
      "54    Dovii          2.2           4.3      14.7   Omnivore        910               25.5\n",
      "55    Dovii          1.7           4.2      14.0  Carnivore        780               26.0\n",
      "56    Dovii          1.4           4.1      13.3  Herbivore        650               26.3\n",
      "57    Midas          1.3           4.0      12.0   Omnivore        940               25.4\n",
      "58    Midas          1.0           4.2      10.8  Carnivore        810               26.8\n",
      "59    Midas          0.7           4.1       9.5  Herbivore        670               25.7\n",
      "60    Dovii          2.0           4.3      14.9   Omnivore        920               26.1\n",
      "61    Dovii          1.8           4.2      14.2  Carnivore        790               25.5\n",
      "62    Dovii          1.5           4.1      13.5  Herbivore        660               26.0\n",
      "63    Midas          1.4           4.0      12.2   Omnivore        970               26.5\n",
      "64    Midas          1.2           4.2      11.0  Carnivore        830               25.8\n",
      "65    Midas          0.9           4.1       9.7  Herbivore        700               25.3\n",
      "66    Dovii          2.4           4.4      17.1   Omnivore        980               25.3\n",
      "67    Dovii          1.9           4.2      15.8  Carnivore        810               26.7\n",
      "68    Dovii          1.6           4.3      14.9  Herbivore        660               25.9\n",
      "69    Midas          1.5           4.1      13.3   Omnivore        950               26.8\n",
      "70    Midas          1.3           4.2      12.7  Carnivore        790               25.7\n",
      "71    Midas          1.0           4.1      11.9  Herbivore        710               26.0\n",
      "72    Dovii          2.1           4.3      15.7   Omnivore        970               25.2\n",
      "73    Dovii          1.6           4.2      14.8  Carnivore        830               26.5\n",
      "74    Dovii          1.3           4.1      13.5  Herbivore        690               25.6\n",
      "75    Midas          1.2           4.0      12.2   Omnivore        940               25.9\n",
      "76    Midas          1.0           4.2      11.1  Carnivore        810               26.3\n",
      "77    Midas          0.8           4.1       9.8  Herbivore        670               25.4\n",
      "78    Dovii          2.2           4.0      15.2   Omnivore        920               26.1\n",
      "79    Dovii          1.8           4.2      14.5  Carnivore        790               25.3\n",
      "80    Dovii          1.5           4.1      13.8  Herbivore        660               26.7\n",
      "81    Midas          1.4           4.0      12.5   Omnivore        970               26.6\n",
      "82    Midas          1.2           4.2      11.3  Carnivore        800               25.1\n",
      "83    Midas          0.9           4.1      10.1  Herbivore        710               25.0\n",
      "84    Dovii          2.0           4.3      15.1   Omnivore        930               25.4\n",
      "85    Dovii          1.7           4.2      14.4  Carnivore        800               26.7\n",
      "86    Dovii          1.4           4.1      13.7  Herbivore        670               25.9\n",
      "87    Midas          1.3           4.0      12.4   Omnivore        960               26.3\n",
      "88    Midas          1.1           4.2      11.2  Carnivore        820               25.8\n",
      "89    Midas          0.8           4.1       9.9  Herbivore        680               25.5\n",
      "90    Dovii          2.3           4.0      14.8   Omnivore        900               26.0\n",
      "91    Dovii          1.8           4.2      14.1  Carnivore        770               26.4\n",
      "92    Dovii          1.5           4.1      13.4  Herbivore        640               25.7\n",
      "93    Midas          1.4           4.0      12.1   Omnivore        950               26.4\n",
      "94    Midas          1.2           4.2      10.9  Carnivore        820               25.8\n",
      "95    Midas          0.9           4.1       9.6  Herbivore        690               26.2\n",
      "96    Dovii          2.2           4.3      14.7   Omnivore        910               25.5\n",
      "97    Dovii          1.7           4.2      14.0  Carnivore        780               26.0\n",
      "98    Dovii          1.4           4.1      13.3  Herbivore        650               26.3\n",
      "99    Midas          1.3           4.0      12.0   Omnivore        940               25.4\n",
      "100   Midas          1.0           4.2      10.8  Carnivore        810               26.8\n",
      "101   Midas          0.7           4.1       9.5  Herbivore        670               25.7\n",
      "102   Dovii          2.1           4.0      14.8   Omnivore        900               26.2\n",
      "103   Dovii          1.8           4.2      14.1  Carnivore        770               25.5\n",
      "104   Dovii          1.5           4.1      13.4  Herbivore        640               26.0\n",
      "105   Midas          1.4           4.0      12.1   Omnivore        950               26.5\n",
      "106   Midas          1.2           4.2      10.9  Carnivore        820               25.8\n",
      "107   Midas          0.9           4.1       9.6  Herbivore        690               26.2\n",
      "108   Dovii          2.2           4.3      14.7   Omnivore        910               25.5\n",
      "109   Dovii          1.7           4.2      14.0  Carnivore        780               26.0\n",
      "110   Dovii          1.4           4.1      13.3  Herbivore        650               26.3\n",
      "111   Midas          1.3           4.0      12.0   Omnivore        940               25.4\n",
      "112   Midas          1.0           4.2      10.8  Carnivore        810               26.8\n",
      "113   Midas          0.7           4.1       9.5  Herbivore        670               25.7\n"
     ]
    }
   ],
   "source": [
    "import pandas as pd\n",
    "\n",
    "\n",
    "file_path = 'Cichlid_data.csv'\n",
    "\n",
    "# Read thCSV file into DataFrame\n",
    "cichlid_df = pd.read_csv(file_path)\n",
    "\n",
    "# Display the DataFrame\n",
    "print(cichlid_df.to_string())"
   ]
  }
 ],
 "metadata": {
  "kernelspec": {
   "display_name": "Python 3",
   "language": "python",
   "name": "python3"
  },
  "language_info": {
   "codemirror_mode": {
    "name": "ipython",
    "version": 3
   },
   "file_extension": ".py",
   "mimetype": "text/x-python",
   "name": "python",
   "nbconvert_exporter": "python",
   "pygments_lexer": "ipython3",
   "version": "3.11.4"
  },
  "orig_nbformat": 4
 },
 "nbformat": 4,
 "nbformat_minor": 2
}
