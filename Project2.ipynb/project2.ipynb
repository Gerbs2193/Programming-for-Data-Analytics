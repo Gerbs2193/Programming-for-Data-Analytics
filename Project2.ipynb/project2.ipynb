{
 "cells": [
  {
   "cell_type": "code",
   "execution_count": 2,
   "metadata": {},
   "outputs": [
    {
     "name": "stdout",
     "output_type": "stream",
     "text": [
      "      year      month    date  average  interpolated  trend  days\n",
      "1958     3  1958.2027  315.70   314.43            -1  -9.99 -0.99\n",
      "1958     4  1958.2877  317.45   315.16            -1  -9.99 -0.99\n",
      "1958     5  1958.3699  317.51   314.71            -1  -9.99 -0.99\n",
      "1958     6  1958.4548  317.24   315.14            -1  -9.99 -0.99\n",
      "1958     7  1958.5370  315.86   315.18            -1  -9.99 -0.99\n",
      "...    ...        ...     ...      ...           ...    ...   ...\n",
      "2023     7  2023.5417  421.83   421.45            21   0.48  0.20\n",
      "2023     8  2023.6250  419.68   421.57            21   0.45  0.19\n",
      "2023     9  2023.7083  418.51   421.95            18   0.30  0.14\n",
      "2023    10  2023.7917  418.82   422.10            27   0.47  0.17\n",
      "2023    11  2023.8750  420.46   422.48            21   0.88  0.37\n",
      "\n",
      "[789 rows x 7 columns]\n"
     ]
    }
   ],
   "source": [
    "import requests\n",
    "import pandas as pd\n",
    "url = \"https://gml.noaa.gov/webdata/ccgg/trends/co2/co2_mm_mlo.txt\"\n",
    "response = requests.get(url)\n",
    "with open(\"co2_mm_mlo.txt\", \"w\") as file:\n",
    "    file.write(response.text)\n",
    "\n",
    "df = pd.read_csv(\"co2_mm_mlo.txt\", delim_whitespace=True, comment='#', header=None, names=['year', 'month', 'date', 'average', 'interpolated', 'trend', 'days'])\n",
    "\n",
    "\n",
    "print(df)"
   ]
  },
  {
   "cell_type": "code",
   "execution_count": 4,
   "metadata": {},
   "outputs": [
    {
     "name": "stdout",
     "output_type": "stream",
     "text": [
      "                                                      Table 1\n",
      "bag ztop EDC3béta  AICC2012     deutfinal temp   acc-EDC3beta\n",
      "1   0    -50       -55          NaN       218.3      3.105321\n",
      "2   0.55 -43.55977 -50.51333333 NaN       218.3      3.104805\n",
      "3   1.1  -37.44019 -46.02666667 NaN       218.3      3.104404\n",
      "4   1.65 -31.64156 -41.54       NaN       218.3      3.104025\n"
     ]
    }
   ],
   "source": [
    "import pandas as pd\n",
    "\n",
    "\n",
    "csv_file_path = 'temp1.csv'\n",
    "\n",
    "\n",
    "df = pd.read_csv(csv_file_path)\n",
    "\n",
    "\n",
    "print(df.head())"
   ]
  }
 ],
 "metadata": {
  "kernelspec": {
   "display_name": "Python 3",
   "language": "python",
   "name": "python3"
  },
  "language_info": {
   "codemirror_mode": {
    "name": "ipython",
    "version": 3
   },
   "file_extension": ".py",
   "mimetype": "text/x-python",
   "name": "python",
   "nbconvert_exporter": "python",
   "pygments_lexer": "ipython3",
   "version": "3.11.4"
  },
  "orig_nbformat": 4
 },
 "nbformat": 4,
 "nbformat_minor": 2
}
